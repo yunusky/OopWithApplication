{
 "cells": [
  {
   "cell_type": "code",
   "execution_count": 13,
   "metadata": {},
   "outputs": [],
   "source": [
    "class Product():\n",
    "    def __init__(self,name:str = \"Default\", price:float = 0, quantity:int = 1) -> None:\n",
    "        print(f\"An instance with name: {name} has been derived from Product class.\")\n",
    "        self.__name = name\n",
    "        self.__price = price\n",
    "        self.__quantity = quantity\n",
    "    \n",
    "    @property\n",
    "    def name(self):\n",
    "        return self.__name\n",
    "    \n",
    "    @name.setter\n",
    "    def name(self, value:str) -> None:\n",
    "        self.__name = value\n",
    "    \n",
    "    @property\n",
    "    def price(self):\n",
    "        return self.__price\n",
    "    \n",
    "    @price.setter\n",
    "    def price(self,value):\n",
    "        self.__price = value\n",
    "\n",
    "    @property\n",
    "    def quantity(self):\n",
    "        return self.__quantity\n",
    "    \n",
    "    @quantity.setter\n",
    "    def quantity(self, value):\n",
    "        self.__quantity = value\n",
    "        \n",
    "    def get_total_price(self)->float:\n",
    "        return self.__price * self.__quantity\n",
    "\n",
    "    def __repr__(self):\n",
    "        return f\"{self.__name} - {self.__price} - {self.__quantity}\""
   ]
  },
  {
   "cell_type": "code",
   "execution_count": 14,
   "metadata": {},
   "outputs": [
    {
     "name": "stdout",
     "output_type": "stream",
     "text": [
      "An instance with name: Laptop has been derived from Product class.\n",
      "Hp Laptop - 799.99 - 2\n"
     ]
    }
   ],
   "source": [
    "item1 = Product(\"Laptop\",799.99,2)\n",
    "item1.name = \"Hp Laptop\"\n",
    "print(item1)"
   ]
  },
  {
   "cell_type": "code",
   "execution_count": 15,
   "metadata": {},
   "outputs": [
    {
     "name": "stdout",
     "output_type": "stream",
     "text": [
      "An instance with name: Computer has been derived from Product class.\n",
      "Computer - 1999.99 - 3\n"
     ]
    }
   ],
   "source": [
    "item2 = Product(\"Computer\")\n",
    "\n",
    "# dinamik özellik tanımı \n",
    "item2.price = 1999.99\n",
    "item2.quantity = 3\n",
    "print(item2)"
   ]
  },
  {
   "cell_type": "code",
   "execution_count": 16,
   "metadata": {},
   "outputs": [
    {
     "name": "stdout",
     "output_type": "stream",
     "text": [
      "An instance with name: keyboard has been derived from Product class.\n",
      "keyboard - 250.5 - 5\n"
     ]
    }
   ],
   "source": [
    "item3 = Product(\"keyboard\",250.50,5)\n",
    "print(item3)"
   ]
  }
 ],
 "metadata": {
  "kernelspec": {
   "display_name": "Python 3",
   "language": "python",
   "name": "python3"
  },
  "language_info": {
   "codemirror_mode": {
    "name": "ipython",
    "version": 3
   },
   "file_extension": ".py",
   "mimetype": "text/x-python",
   "name": "python",
   "nbconvert_exporter": "python",
   "pygments_lexer": "ipython3",
   "version": "3.10.6"
  },
  "orig_nbformat": 4
 },
 "nbformat": 4,
 "nbformat_minor": 2
}
