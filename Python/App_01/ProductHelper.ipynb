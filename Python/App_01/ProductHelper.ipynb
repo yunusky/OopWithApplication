{
 "cells": [
  {
   "cell_type": "code",
   "execution_count": 64,
   "metadata": {},
   "outputs": [],
   "source": [
    "%run Product.ipynb\n",
    "\n",
    "class ProductHelper(Product):\n",
    "    def __init__(self, name, price, quantity):\n",
    "        super().__init__(name, price, quantity)\n",
    "    \n",
    "    @staticmethod\n",
    "    def create_item_from_text():\n",
    "        products = []\n",
    "        with open('Product.txt', 'r') as dosya:\n",
    "            satirlar = dosya.readlines()\n",
    "            for satir in satirlar:\n",
    "                degerler = satir.split(\",\")\n",
    "                name = degerler[1]\n",
    "                price = float(degerler[2])\n",
    "                quantity = int(degerler[3])\n",
    "                products.append(Product(name, price, quantity))\n",
    "\n",
    "            for item in products:\n",
    "                print(item)\n",
    "                               \n",
    "\n",
    "    @staticmethod\n",
    "    def getBalance(Products):\n",
    "        for product in Products:\n",
    "            includeVAT = (product.price * product.quantity) * 1.2\n",
    "            excludeVAT = product.price * product.quantity\n",
    "            print(f\"{product.name} - including vat price : {includeVAT} excluding vat price : {excludeVAT}\")"
   ]
  },
  {
   "cell_type": "code",
   "execution_count": 65,
   "metadata": {},
   "outputs": [
    {
     "name": "stdout",
     "output_type": "stream",
     "text": [
      "An instance with name: kalem has been derived from Product class.\n",
      "An instance with name:  Computer has been derived from Product class.\n",
      "An instance with name:  Laptop has been derived from Product class.\n",
      "An instance with name:  Airpods has been derived from Product class.\n",
      "An instance with name:  Smart Phone has been derived from Product class.\n",
      "An instance with name:  Smart Watch has been derived from Product class.\n",
      " Computer - 5000.0 - 2\n",
      " Laptop - 7000.0 - 3\n",
      " Airpods - 2000.0 - 1\n",
      " Smart Phone - 1500.0 - 5\n",
      " Smart Watch - 900.0 - 4\n",
      "An instance with name: kalem has been derived from Product class.\n",
      "An instance with name: silgi has been derived from Product class.\n",
      "An instance with name: kalemlik has been derived from Product class.\n",
      "An instance with name: cetvel has been derived from Product class.\n",
      "kalem - including vat price : 24.0 excluding vat price : 20\n",
      "silgi - including vat price : 12.0 excluding vat price : 10\n",
      "kalemlik - including vat price : 72.0 excluding vat price : 60\n",
      "cetvel - including vat price : 38.4 excluding vat price : 32\n"
     ]
    }
   ],
   "source": [
    "item = ProductHelper(\"kalem\",15.5,3)\n",
    "item.create_item_from_text()\n",
    "Products = [\n",
    "Product(\"kalem\",5,4),\n",
    "Product(\"silgi\",2,5),\n",
    "Product(\"kalemlik\",10,6),\n",
    "Product(\"cetvel\",4,8)\n",
    "]\n",
    "item.getBalance(Products)"
   ]
  }
 ],
 "metadata": {
  "kernelspec": {
   "display_name": "Python 3",
   "language": "python",
   "name": "python3"
  },
  "language_info": {
   "codemirror_mode": {
    "name": "ipython",
    "version": 3
   },
   "file_extension": ".py",
   "mimetype": "text/x-python",
   "name": "python",
   "nbconvert_exporter": "python",
   "pygments_lexer": "ipython3",
   "version": "3.10.6"
  }
 },
 "nbformat": 4,
 "nbformat_minor": 2
}
